{
 "cells": [
  {
   "cell_type": "code",
   "execution_count": 1,
   "metadata": {},
   "outputs": [],
   "source": [
    "%matplotlib inline\n",
    "from matplotlib import style\n",
    "style.use('fivethirtyeight')\n",
    "import matplotlib.pyplot as plt"
   ]
  },
  {
   "cell_type": "code",
   "execution_count": 2,
   "metadata": {},
   "outputs": [],
   "source": [
    "import numpy as np\n",
    "import pandas as pd"
   ]
  },
  {
   "cell_type": "code",
   "execution_count": 3,
   "metadata": {},
   "outputs": [],
   "source": [
    "import datetime as dt"
   ]
  },
  {
   "cell_type": "markdown",
   "metadata": {},
   "source": [
    "# Reflect Tables into SQLAlchemy ORM"
   ]
  },
  {
   "cell_type": "code",
   "execution_count": 4,
   "metadata": {},
   "outputs": [],
   "source": [
    "# Python SQL toolkit and Object Relational Mapper\n",
    "import sqlalchemy\n",
    "from sqlalchemy.ext.automap import automap_base\n",
    "from sqlalchemy.orm import Session\n",
    "from sqlalchemy import create_engine, func\n",
    "from flask import Flask, jsonify"
   ]
  },
  {
   "cell_type": "code",
   "execution_count": 5,
   "metadata": {},
   "outputs": [],
   "source": [
    "engine = create_engine(\"sqlite:///Resources/hawaii.sqlite\")"
   ]
  },
  {
   "cell_type": "code",
   "execution_count": 6,
   "metadata": {},
   "outputs": [],
   "source": [
    "# reflect an existing database into a new model\n",
    "Base = automap_base()\n",
    "# reflect the tables\n",
    "Base.prepare(engine, reflect=True)"
   ]
  },
  {
   "cell_type": "code",
   "execution_count": 7,
   "metadata": {},
   "outputs": [
    {
     "data": {
      "text/plain": [
       "['measurement', 'station']"
      ]
     },
     "execution_count": 7,
     "metadata": {},
     "output_type": "execute_result"
    }
   ],
   "source": [
    "# We can view all of the classes that automap found\n",
    "Base.classes.keys()"
   ]
  },
  {
   "cell_type": "code",
   "execution_count": 8,
   "metadata": {},
   "outputs": [],
   "source": [
    "# Save references to each table\n",
    "Measurement = Base.classes.measurement\n",
    "Station = Base.classes.station"
   ]
  },
  {
   "cell_type": "code",
   "execution_count": 9,
   "metadata": {},
   "outputs": [],
   "source": [
    "# Create our session (link) from Python to the DB\n",
    "session = Session(engine)"
   ]
  },
  {
   "cell_type": "markdown",
   "metadata": {},
   "source": [
    "# Exploratory Climate Analysis"
   ]
  },
  {
   "cell_type": "code",
   "execution_count": 10,
   "metadata": {},
   "outputs": [],
   "source": [
    "# Design a query to retrieve the last 12 months of precipitation data and plot the results\n",
    "# Calculate the date 1 year ago from the last data point in the database\n",
    "# Perform a query to retrieve the data and precipitation scores\n",
    "# Save the query results as a Pandas DataFrame and set the index to the date column\n",
    "# Sort the dataframe by date\n",
    "# Use Pandas Plotting with Matplotlib to plot the data"
   ]
  },
  {
   "cell_type": "code",
   "execution_count": 11,
   "metadata": {},
   "outputs": [
    {
     "data": {
      "text/plain": [
       "('2017-08-23')"
      ]
     },
     "execution_count": 11,
     "metadata": {},
     "output_type": "execute_result"
    }
   ],
   "source": [
    "last_date = session.query(Measurement.date).order_by(Measurement.date.desc()).first()\n",
    "last_date"
   ]
  },
  {
   "cell_type": "code",
   "execution_count": 12,
   "metadata": {},
   "outputs": [
    {
     "data": {
      "text/plain": [
       "datetime.date(2016, 8, 23)"
      ]
     },
     "execution_count": 12,
     "metadata": {},
     "output_type": "execute_result"
    }
   ],
   "source": [
    "one_year_date = dt.date(2017, 8, 23) - dt.timedelta(days=365)\n",
    "one_year_date"
   ]
  },
  {
   "cell_type": "code",
   "execution_count": 13,
   "metadata": {},
   "outputs": [
    {
     "data": {
      "text/plain": [
       "[('2016-08-24', 9.329999999999998),\n",
       " ('2016-08-25', 0.54),\n",
       " ('2016-08-26', 0.09999999999999999),\n",
       " ('2016-08-27', 0.31999999999999995),\n",
       " ('2016-08-28', 3.0999999999999996),\n",
       " ('2016-08-29', 1.46),\n",
       " ('2016-08-30', 0.07),\n",
       " ('2016-08-31', 3.1799999999999997),\n",
       " ('2016-09-01', 0.03),\n",
       " ('2016-09-02', 0.25),\n",
       " ('2016-09-03', 1.27),\n",
       " ('2016-09-04', 1.3800000000000001),\n",
       " ('2016-09-05', 0.33999999999999997),\n",
       " ('2016-09-06', 1.23),\n",
       " ('2016-09-07', 2.0),\n",
       " ('2016-09-08', 0.4600000000000001),\n",
       " ('2016-09-09', 1.0699999999999998),\n",
       " ('2016-09-10', 1.4),\n",
       " ('2016-09-11', 1.25),\n",
       " ('2016-09-12', 1.54),\n",
       " ('2016-09-13', 2.71),\n",
       " ('2016-09-14', 14.280000000000001),\n",
       " ('2016-09-15', 4.96),\n",
       " ('2016-09-16', 0.8200000000000001),\n",
       " ('2016-09-17', 0.6799999999999999),\n",
       " ('2016-09-18', 0.53),\n",
       " ('2016-09-19', 0.32),\n",
       " ('2016-09-20', 1.03),\n",
       " ('2016-09-21', 1.17),\n",
       " ('2016-09-22', 1.44),\n",
       " ('2016-09-23', 1.57),\n",
       " ('2016-09-24', 0.28),\n",
       " ('2016-09-25', 0.09),\n",
       " ('2016-09-26', 1.67),\n",
       " ('2016-09-27', 1.3599999999999999),\n",
       " ('2016-09-28', 0.13),\n",
       " ('2016-09-29', 2.99),\n",
       " ('2016-09-30', 1.15),\n",
       " ('2016-10-01', 1.4500000000000002),\n",
       " ('2016-10-02', 0.72),\n",
       " ('2016-10-03', 0.6900000000000001),\n",
       " ('2016-10-04', 3.4899999999999998),\n",
       " ('2016-10-05', 0.8200000000000001),\n",
       " ('2016-10-06', 0.16),\n",
       " ('2016-10-07', 0.01),\n",
       " ('2016-10-08', 0.04),\n",
       " ('2016-10-09', 0.0),\n",
       " ('2016-10-10', 0.0),\n",
       " ('2016-10-11', 0.69),\n",
       " ('2016-10-12', 0.08),\n",
       " ('2016-10-13', 0.08),\n",
       " ('2016-10-14', 0.0),\n",
       " ('2016-10-15', 0.39),\n",
       " ('2016-10-16', 0.0),\n",
       " ('2016-10-17', 0.55),\n",
       " ('2016-10-18', 0.6),\n",
       " ('2016-10-19', 0.16999999999999998),\n",
       " ('2016-10-20', 1.01),\n",
       " ('2016-10-21', 0.32),\n",
       " ('2016-10-22', 1.77),\n",
       " ('2016-10-23', 0.27999999999999997),\n",
       " ('2016-10-24', 0.7899999999999999),\n",
       " ('2016-10-25', 1.1),\n",
       " ('2016-10-26', 0.29000000000000004),\n",
       " ('2016-10-27', 1.8599999999999999),\n",
       " ('2016-10-28', 0.5700000000000001),\n",
       " ('2016-10-29', 0.64),\n",
       " ('2016-10-30', 1.5899999999999999),\n",
       " ('2016-10-31', 1.61),\n",
       " ('2016-11-01', 0.21000000000000002),\n",
       " ('2016-11-02', 0.04),\n",
       " ('2016-11-03', 0.02),\n",
       " ('2016-11-04', 0.06),\n",
       " ('2016-11-05', 0.45),\n",
       " ('2016-11-06', 0.08),\n",
       " ('2016-11-07', 0.18),\n",
       " ('2016-11-08', 1.12),\n",
       " ('2016-11-09', 0.39999999999999997),\n",
       " ('2016-11-10', 0.01),\n",
       " ('2016-11-11', 0.0),\n",
       " ('2016-11-12', 0.0),\n",
       " ('2016-11-13', 0.0),\n",
       " ('2016-11-14', 0.15),\n",
       " ('2016-11-15', 0.05),\n",
       " ('2016-11-16', 1.54),\n",
       " ('2016-11-17', 0.06),\n",
       " ('2016-11-18', 0.03),\n",
       " ('2016-11-19', 0.38),\n",
       " ('2016-11-20', 0.9500000000000001),\n",
       " ('2016-11-21', 3.08),\n",
       " ('2016-11-22', 5.01),\n",
       " ('2016-11-23', 0.67),\n",
       " ('2016-11-24', 1.48),\n",
       " ('2016-11-25', 1.32),\n",
       " ('2016-11-26', 0.51),\n",
       " ('2016-11-27', 0.55),\n",
       " ('2016-11-28', 0.72),\n",
       " ('2016-11-29', 0.43000000000000005),\n",
       " ('2016-11-30', 1.06),\n",
       " ('2016-12-01', 1.77),\n",
       " ('2016-12-02', 2.36),\n",
       " ('2016-12-03', 2.71),\n",
       " ('2016-12-04', 0.8),\n",
       " ('2016-12-05', 3.24),\n",
       " ('2016-12-06', 0.04),\n",
       " ('2016-12-07', 0.38),\n",
       " ('2016-12-08', 0.4600000000000001),\n",
       " ('2016-12-09', 1.85),\n",
       " ('2016-12-10', 0.13),\n",
       " ('2016-12-11', 0.25),\n",
       " ('2016-12-12', 0.05),\n",
       " ('2016-12-13', 0.77),\n",
       " ('2016-12-14', 1.5),\n",
       " ('2016-12-15', 0.26),\n",
       " ('2016-12-16', 0.04),\n",
       " ('2016-12-17', 0.35000000000000003),\n",
       " ('2016-12-18', 0.89),\n",
       " ('2016-12-19', 0.42000000000000004),\n",
       " ('2016-12-20', 0.03),\n",
       " ('2016-12-21', 0.9),\n",
       " ('2016-12-22', 2.4699999999999998),\n",
       " ('2016-12-23', 1.23),\n",
       " ('2016-12-24', 1.62),\n",
       " ('2016-12-25', 0.43),\n",
       " ('2016-12-26', 2.04),\n",
       " ('2016-12-27', 0.24000000000000002),\n",
       " ('2016-12-28', 0.41000000000000003),\n",
       " ('2016-12-29', 2.38),\n",
       " ('2016-12-30', 3.35),\n",
       " ('2016-12-31', 2.14),\n",
       " ('2017-01-01', 0.35),\n",
       " ('2017-01-02', 0.02),\n",
       " ('2017-01-03', 0.0),\n",
       " ('2017-01-04', 0.18),\n",
       " ('2017-01-05', 0.95),\n",
       " ('2017-01-06', 0.7999999999999999),\n",
       " ('2017-01-07', 0.06),\n",
       " ('2017-01-08', 0.06),\n",
       " ('2017-01-09', 0.0),\n",
       " ('2017-01-10', 0.0),\n",
       " ('2017-01-11', 0.0),\n",
       " ('2017-01-12', 0.0),\n",
       " ('2017-01-13', 0.0),\n",
       " ('2017-01-14', 0.01),\n",
       " ('2017-01-15', 0.01),\n",
       " ('2017-01-16', 0.0),\n",
       " ('2017-01-17', 0.0),\n",
       " ('2017-01-18', 0.07),\n",
       " ('2017-01-19', 0.02),\n",
       " ('2017-01-20', 0.0),\n",
       " ('2017-01-21', 0.27999999999999997),\n",
       " ('2017-01-22', 1.02),\n",
       " ('2017-01-23', 0.94),\n",
       " ('2017-01-24', 2.25),\n",
       " ('2017-01-25', 3.58),\n",
       " ('2017-01-26', 0.11),\n",
       " ('2017-01-27', 0.06),\n",
       " ('2017-01-28', 0.14),\n",
       " ('2017-01-29', 0.99),\n",
       " ('2017-01-30', 0.05),\n",
       " ('2017-01-31', 0.0),\n",
       " ('2017-02-01', 0.0),\n",
       " ('2017-02-02', 0.0),\n",
       " ('2017-02-03', 0.0),\n",
       " ('2017-02-04', 0.0),\n",
       " ('2017-02-05', 0.0),\n",
       " ('2017-02-06', 0.38),\n",
       " ('2017-02-07', 7.4),\n",
       " ('2017-02-08', 1.08),\n",
       " ('2017-02-09', 0.02),\n",
       " ('2017-02-10', 0.0),\n",
       " ('2017-02-11', 11.200000000000001),\n",
       " ('2017-02-12', 10.48),\n",
       " ('2017-02-13', 2.9199999999999995),\n",
       " ('2017-02-14', 0.01),\n",
       " ('2017-02-15', 0.08),\n",
       " ('2017-02-16', 2.2199999999999998),\n",
       " ('2017-02-17', 1.0500000000000003),\n",
       " ('2017-02-18', 0.01),\n",
       " ('2017-02-19', 0.19),\n",
       " ('2017-02-20', 0.0),\n",
       " ('2017-02-21', 0.13),\n",
       " ('2017-02-22', 0.9100000000000001),\n",
       " ('2017-02-23', 0.01),\n",
       " ('2017-02-24', 0.0),\n",
       " ('2017-02-25', 0.15),\n",
       " ('2017-02-26', 0.0),\n",
       " ('2017-02-27', 0.0),\n",
       " ('2017-02-28', 0.82),\n",
       " ('2017-03-01', 11.620000000000001),\n",
       " ('2017-03-02', 6.56),\n",
       " ('2017-03-03', 2.23),\n",
       " ('2017-03-04', 0.0),\n",
       " ('2017-03-05', 1.21),\n",
       " ('2017-03-06', 0.54),\n",
       " ('2017-03-07', 0.0),\n",
       " ('2017-03-08', 0.0),\n",
       " ('2017-03-09', 1.9600000000000002),\n",
       " ('2017-03-10', 0.29000000000000004),\n",
       " ('2017-03-11', 0.04),\n",
       " ('2017-03-12', 0.0),\n",
       " ('2017-03-13', 0.0),\n",
       " ('2017-03-14', 0.06),\n",
       " ('2017-03-15', 0.06),\n",
       " ('2017-03-16', 0.0),\n",
       " ('2017-03-17', 0.72),\n",
       " ('2017-03-18', 0.0),\n",
       " ('2017-03-19', 0.0),\n",
       " ('2017-03-20', 0.02),\n",
       " ('2017-03-21', 0.09),\n",
       " ('2017-03-22', 0.0),\n",
       " ('2017-03-23', 0.05),\n",
       " ('2017-03-24', 1.1300000000000001),\n",
       " ('2017-03-25', 1.9700000000000002),\n",
       " ('2017-03-26', 0.0),\n",
       " ('2017-03-27', 0.01),\n",
       " ('2017-03-28', 0.7100000000000001),\n",
       " ('2017-03-29', 0.19),\n",
       " ('2017-03-30', 0.15),\n",
       " ('2017-03-31', 0.01),\n",
       " ('2017-04-01', 0.41000000000000003),\n",
       " ('2017-04-02', 0.0),\n",
       " ('2017-04-03', 0.66),\n",
       " ('2017-04-04', 0.15),\n",
       " ('2017-04-05', 0.66),\n",
       " ('2017-04-06', 0.06),\n",
       " ('2017-04-07', 0.0),\n",
       " ('2017-04-08', 0.0),\n",
       " ('2017-04-09', 0.0),\n",
       " ('2017-04-10', 0.02),\n",
       " ('2017-04-11', 0.47),\n",
       " ('2017-04-12', 1.08),\n",
       " ('2017-04-13', 1.09),\n",
       " ('2017-04-14', 6.72),\n",
       " ('2017-04-15', 1.7400000000000002),\n",
       " ('2017-04-16', 1.07),\n",
       " ('2017-04-17', 3.0700000000000003),\n",
       " ('2017-04-18', 3.36),\n",
       " ('2017-04-19', 0.2),\n",
       " ('2017-04-20', 0.78),\n",
       " ('2017-04-21', 8.38),\n",
       " ('2017-04-22', 4.960000000000001),\n",
       " ('2017-04-23', 0.45999999999999996),\n",
       " ('2017-04-24', 0.060000000000000005),\n",
       " ('2017-04-25', 0.0),\n",
       " ('2017-04-26', 0.39),\n",
       " ('2017-04-27', 0.42),\n",
       " ('2017-04-28', 4.24),\n",
       " ('2017-04-29', 8.04),\n",
       " ('2017-04-30', 6.42),\n",
       " ('2017-05-01', 0.81),\n",
       " ('2017-05-02', 0.05),\n",
       " ('2017-05-03', 0.03),\n",
       " ('2017-05-04', 0.08),\n",
       " ('2017-05-05', 0.38),\n",
       " ('2017-05-06', 0.06),\n",
       " ('2017-05-07', 0.12000000000000001),\n",
       " ('2017-05-08', 3.01),\n",
       " ('2017-05-09', 4.630000000000001),\n",
       " ('2017-05-10', 0.8600000000000001),\n",
       " ('2017-05-11', 0.6),\n",
       " ('2017-05-12', 0.16),\n",
       " ('2017-05-13', 0.24),\n",
       " ('2017-05-14', 1.22),\n",
       " ('2017-05-15', 0.88),\n",
       " ('2017-05-16', 0.42),\n",
       " ('2017-05-17', 0.15000000000000002),\n",
       " ('2017-05-18', 0.85),\n",
       " ('2017-05-19', 0.04),\n",
       " ('2017-05-20', 0.03),\n",
       " ('2017-05-21', 0.01),\n",
       " ('2017-05-22', 0.36),\n",
       " ('2017-05-23', 0.71),\n",
       " ('2017-05-24', 3.8899999999999997),\n",
       " ('2017-05-25', 2.22),\n",
       " ('2017-05-26', 0.02),\n",
       " ('2017-05-27', 0.51),\n",
       " ('2017-05-28', 0.41000000000000003),\n",
       " ('2017-05-29', 0.42000000000000004),\n",
       " ('2017-05-30', 1.73),\n",
       " ('2017-05-31', 0.37),\n",
       " ('2017-06-01', 0.04),\n",
       " ('2017-06-02', 0.33999999999999997),\n",
       " ('2017-06-03', 0.61),\n",
       " ('2017-06-04', 1.15),\n",
       " ('2017-06-05', 0.08),\n",
       " ('2017-06-06', 0.0),\n",
       " ('2017-06-07', 0.01),\n",
       " ('2017-06-08', 0.03),\n",
       " ('2017-06-09', 0.04),\n",
       " ('2017-06-10', 1.53),\n",
       " ('2017-06-11', 2.15),\n",
       " ('2017-06-12', 1.75),\n",
       " ('2017-06-13', 1.38),\n",
       " ('2017-06-14', 1.57),\n",
       " ('2017-06-15', 2.71),\n",
       " ('2017-06-16', 0.2),\n",
       " ('2017-06-17', 0.54),\n",
       " ('2017-06-18', 1.42),\n",
       " ('2017-06-19', 0.73),\n",
       " ('2017-06-20', 0.55),\n",
       " ('2017-06-21', 0.51),\n",
       " ('2017-06-22', 0.44000000000000006),\n",
       " ('2017-06-23', 0.6699999999999999),\n",
       " ('2017-06-24', 0.64),\n",
       " ('2017-06-25', 0.6),\n",
       " ('2017-06-26', 0.1),\n",
       " ('2017-06-27', 0.11),\n",
       " ('2017-06-28', 0.03),\n",
       " ('2017-06-29', 0.07),\n",
       " ('2017-06-30', 0.52),\n",
       " ('2017-07-01', 0.26),\n",
       " ('2017-07-02', 0.72),\n",
       " ('2017-07-03', 0.74),\n",
       " ('2017-07-04', 0.15000000000000002),\n",
       " ('2017-07-05', 0.0),\n",
       " ('2017-07-06', 0.02),\n",
       " ('2017-07-07', 0.5),\n",
       " ('2017-07-08', 0.1),\n",
       " ('2017-07-09', 0.2),\n",
       " ('2017-07-10', 0.04),\n",
       " ('2017-07-11', 0.03),\n",
       " ('2017-07-12', 0.36000000000000004),\n",
       " ('2017-07-13', 1.81),\n",
       " ('2017-07-14', 0.9500000000000001),\n",
       " ('2017-07-15', 0.19),\n",
       " ('2017-07-16', 0.81),\n",
       " ('2017-07-17', 0.91),\n",
       " ('2017-07-18', 2.53),\n",
       " ('2017-07-19', 0.41000000000000003),\n",
       " ('2017-07-20', 1.24),\n",
       " ('2017-07-21', 0.13),\n",
       " ('2017-07-22', 4.42),\n",
       " ('2017-07-23', 1.1300000000000001),\n",
       " ('2017-07-24', 3.2699999999999996),\n",
       " ('2017-07-25', 0.61),\n",
       " ('2017-07-26', 0.5),\n",
       " ('2017-07-27', 0.01),\n",
       " ('2017-07-28', 0.77),\n",
       " ('2017-07-29', 0.61),\n",
       " ('2017-07-30', 0.3),\n",
       " ('2017-07-31', 0.0),\n",
       " ('2017-08-01', 0.13999999999999999),\n",
       " ('2017-08-02', 0.3),\n",
       " ('2017-08-03', 0.06999999999999999),\n",
       " ('2017-08-04', 0.06),\n",
       " ('2017-08-05', 0.06),\n",
       " ('2017-08-06', 0.0),\n",
       " ('2017-08-07', 0.05),\n",
       " ('2017-08-08', 0.44000000000000006),\n",
       " ('2017-08-09', 0.15),\n",
       " ('2017-08-10', 0.07),\n",
       " ('2017-08-11', 0.0),\n",
       " ('2017-08-12', 0.14),\n",
       " ('2017-08-13', 0.0),\n",
       " ('2017-08-14', 0.31),\n",
       " ('2017-08-15', 0.8200000000000001),\n",
       " ('2017-08-16', 0.61),\n",
       " ('2017-08-17', 0.19),\n",
       " ('2017-08-18', 0.06),\n",
       " ('2017-08-19', 0.09),\n",
       " ('2017-08-20', 0.01),\n",
       " ('2017-08-21', 0.5800000000000001),\n",
       " ('2017-08-22', 0.5),\n",
       " ('2017-08-23', 0.53)]"
      ]
     },
     "execution_count": 13,
     "metadata": {},
     "output_type": "execute_result"
    }
   ],
   "source": [
    "# Design a query to retrieve the last 12 months of precipitation data and plot the results\n",
    "sel = [Measurement.date, func.sum(Measurement.prcp)]\n",
    "precip = session.query(*sel).\\\n",
    "    filter(Measurement.date > one_year_date).\\\n",
    "    group_by(Measurement.date).\\\n",
    "    order_by(Measurement.date).all()\n",
    "precip"
   ]
  },
  {
   "cell_type": "code",
   "execution_count": null,
   "metadata": {},
   "outputs": [],
   "source": []
  },
  {
   "cell_type": "code",
   "execution_count": 14,
   "metadata": {},
   "outputs": [
    {
     "data": {
      "text/html": [
       "<div>\n",
       "<style scoped>\n",
       "    .dataframe tbody tr th:only-of-type {\n",
       "        vertical-align: middle;\n",
       "    }\n",
       "\n",
       "    .dataframe tbody tr th {\n",
       "        vertical-align: top;\n",
       "    }\n",
       "\n",
       "    .dataframe thead th {\n",
       "        text-align: right;\n",
       "    }\n",
       "</style>\n",
       "<table border=\"1\" class=\"dataframe\">\n",
       "  <thead>\n",
       "    <tr style=\"text-align: right;\">\n",
       "      <th></th>\n",
       "      <th>prcp</th>\n",
       "    </tr>\n",
       "    <tr>\n",
       "      <th>date</th>\n",
       "      <th></th>\n",
       "    </tr>\n",
       "  </thead>\n",
       "  <tbody>\n",
       "    <tr>\n",
       "      <th>2016-08-24</th>\n",
       "      <td>9.33</td>\n",
       "    </tr>\n",
       "    <tr>\n",
       "      <th>2016-08-25</th>\n",
       "      <td>0.54</td>\n",
       "    </tr>\n",
       "    <tr>\n",
       "      <th>2016-08-26</th>\n",
       "      <td>0.10</td>\n",
       "    </tr>\n",
       "    <tr>\n",
       "      <th>2016-08-27</th>\n",
       "      <td>0.32</td>\n",
       "    </tr>\n",
       "    <tr>\n",
       "      <th>2016-08-28</th>\n",
       "      <td>3.10</td>\n",
       "    </tr>\n",
       "  </tbody>\n",
       "</table>\n",
       "</div>"
      ],
      "text/plain": [
       "            prcp\n",
       "date            \n",
       "2016-08-24  9.33\n",
       "2016-08-25  0.54\n",
       "2016-08-26  0.10\n",
       "2016-08-27  0.32\n",
       "2016-08-28  3.10"
      ]
     },
     "execution_count": 14,
     "metadata": {},
     "output_type": "execute_result"
    }
   ],
   "source": [
    "df = pd.DataFrame(precip, columns = ['date', 'prcp'])\n",
    "df['date'] = pd.to_datetime(df['date'])\n",
    "df.set_index('date', inplace=True)\n",
    "df.head()"
   ]
  },
  {
   "cell_type": "code",
   "execution_count": 15,
   "metadata": {},
   "outputs": [
    {
     "data": {
      "image/png": "[encoded data removed]",
      "text/plain": [
       "<Figure size 432x288 with 1 Axes>"
      ]
     },
     "metadata": {
      "needs_background": "light"
     },
     "output_type": "display_data"
    }
   ],
   "source": [
    "df.plot(rot=45, grid=True)\n",
    "plt.show()"
   ]
  },
  {
   "cell_type": "code",
   "execution_count": 16,
   "metadata": {},
   "outputs": [],
   "source": [
    "# Use Pandas to calcualte the summary statistics for the precipitation data"
   ]
  },
  {
   "cell_type": "code",
   "execution_count": 17,
   "metadata": {},
   "outputs": [
    {
     "data": {
      "text/html": [
       "<div>\n",
       "<style scoped>\n",
       "    .dataframe tbody tr th:only-of-type {\n",
       "        vertical-align: middle;\n",
       "    }\n",
       "\n",
       "    .dataframe tbody tr th {\n",
       "        vertical-align: top;\n",
       "    }\n",
       "\n",
       "    .dataframe thead th {\n",
       "        text-align: right;\n",
       "    }\n",
       "</style>\n",
       "<table border=\"1\" class=\"dataframe\">\n",
       "  <thead>\n",
       "    <tr style=\"text-align: right;\">\n",
       "      <th></th>\n",
       "      <th>prcp</th>\n",
       "    </tr>\n",
       "  </thead>\n",
       "  <tbody>\n",
       "    <tr>\n",
       "      <th>count</th>\n",
       "      <td>365.000000</td>\n",
       "    </tr>\n",
       "    <tr>\n",
       "      <th>mean</th>\n",
       "      <td>0.974164</td>\n",
       "    </tr>\n",
       "    <tr>\n",
       "      <th>std</th>\n",
       "      <td>1.776466</td>\n",
       "    </tr>\n",
       "    <tr>\n",
       "      <th>min</th>\n",
       "      <td>0.000000</td>\n",
       "    </tr>\n",
       "    <tr>\n",
       "      <th>25%</th>\n",
       "      <td>0.050000</td>\n",
       "    </tr>\n",
       "    <tr>\n",
       "      <th>50%</th>\n",
       "      <td>0.400000</td>\n",
       "    </tr>\n",
       "    <tr>\n",
       "      <th>75%</th>\n",
       "      <td>1.080000</td>\n",
       "    </tr>\n",
       "    <tr>\n",
       "      <th>max</th>\n",
       "      <td>14.280000</td>\n",
       "    </tr>\n",
       "  </tbody>\n",
       "</table>\n",
       "</div>"
      ],
      "text/plain": [
       "             prcp\n",
       "count  365.000000\n",
       "mean     0.974164\n",
       "std      1.776466\n",
       "min      0.000000\n",
       "25%      0.050000\n",
       "50%      0.400000\n",
       "75%      1.080000\n",
       "max     14.280000"
      ]
     },
     "execution_count": 17,
     "metadata": {},
     "output_type": "execute_result"
    }
   ],
   "source": [
    "df.describe()"
   ]
  },
  {
   "cell_type": "code",
   "execution_count": 18,
   "metadata": {},
   "outputs": [
    {
     "data": {
      "text/plain": [
       "9"
      ]
     },
     "execution_count": 18,
     "metadata": {},
     "output_type": "execute_result"
    }
   ],
   "source": [
    "# Design a query to show how many stations are available in this dataset?\n",
    "no_stations = session.query(Station.station).count()\n",
    "no_stations"
   ]
  },
  {
   "cell_type": "code",
   "execution_count": 19,
   "metadata": {},
   "outputs": [
    {
     "data": {
      "text/plain": [
       "[('USC00519281', 'WAIHEE 837.5, HI US', 2772),\n",
       " ('USC00519397', 'WAIKIKI 717.2, HI US', 2724),\n",
       " ('USC00513117', 'KANEOHE 838.1, HI US', 2709),\n",
       " ('USC00519523', 'WAIMANALO EXPERIMENTAL FARM, HI US', 2669),\n",
       " ('USC00516128', 'MANOA LYON ARBO 785.2, HI US', 2612),\n",
       " ('USC00514830', 'KUALOA RANCH HEADQUARTERS 886.9, HI US', 2202),\n",
       " ('USC00511918', 'HONOLULU OBSERVATORY 702.2, HI US', 1979),\n",
       " ('USC00517948', 'PEARL CITY, HI US', 1372),\n",
       " ('USC00518838', 'UPPER WAHIAWA 874.3, HI US', 511)]"
      ]
     },
     "execution_count": 19,
     "metadata": {},
     "output_type": "execute_result"
    }
   ],
   "source": [
    "# What are the most active stations? (i.e. what stations have the most rows)?\n",
    "# List the stations and the counts in descending order.\n",
    "active_stations = session.query(Measurement.station, Station.name, func.count(Measurement.id)).\\\n",
    "    filter(Measurement.station == Station.station).group_by(Measurement.station).order_by(func.count(Measurement.id).desc()).all()\n",
    "active_stations"
   ]
  },
  {
   "cell_type": "code",
   "execution_count": 20,
   "metadata": {},
   "outputs": [
    {
     "data": {
      "text/plain": [
       "('USC00519281', 'WAIHEE 837.5, HI US', 2772)"
      ]
     },
     "execution_count": 20,
     "metadata": {},
     "output_type": "execute_result"
    }
   ],
   "source": [
    "most_active_station = active_stations[0]\n",
    "most_active_station"
   ]
  },
  {
   "cell_type": "code",
   "execution_count": 21,
   "metadata": {},
   "outputs": [
    {
     "name": "stdout",
     "output_type": "stream",
     "text": [
      "[(59.0,)] [(83.0,)] [(77.0,)]\n"
     ]
    }
   ],
   "source": [
    "# Using the station id from the previous query, calculate the lowest temperature recorded, \n",
    "# highest temperature recorded, and average temperature most active station?\n",
    "lowest_temp = session.query(Measurement.tobs).\\\n",
    "    filter(Measurement.station == most_active_station.station, Measurement.date > one_year_date).group_by(Measurement.station).order_by(func.min(Measurement.tobs)).all()\n",
    "highest_temp = session.query(Measurement.tobs).\\\n",
    "    filter(Measurement.station == most_active_station.station, Measurement.date > one_year_date).group_by(Measurement.station).order_by(func.max(Measurement.tobs)).all()\n",
    "avg_temp = session.query(Measurement.tobs).\\\n",
    "    filter(Measurement.station == most_active_station.station, Measurement.date > one_year_date).group_by(Measurement.station).order_by(func.avg(Measurement.tobs)).all()\n",
    "print(lowest_temp, highest_temp, avg_temp)"
   ]
  },
  {
   "cell_type": "code",
   "execution_count": 22,
   "metadata": {},
   "outputs": [
    {
     "data": {
      "text/plain": [
       "('USC00519397', 'WAIKIKI 717.2, HI US', 360)"
      ]
     },
     "execution_count": 22,
     "metadata": {},
     "output_type": "execute_result"
    }
   ],
   "source": [
    "# Choose the station with the highest number of temperature observations.\n",
    "# Query the last 12 months of temperature observation data for this station and plot the results as a histogram\n",
    "most_tobs = session.query(Measurement.station, Station.name, func.count(Measurement.tobs)).\\\n",
    "    filter(Measurement.station == Station.station, Measurement.date > one_year_date).group_by(Measurement.station).order_by(func.count(Measurement.tobs).desc()).all()\n",
    "most_tobs_station = most_tobs[0]\n",
    "most_tobs_station"
   ]
  },
  {
   "cell_type": "code",
   "execution_count": 23,
   "metadata": {},
   "outputs": [
    {
     "data": {
      "text/plain": [
       "'USC00519397'"
      ]
     },
     "execution_count": 23,
     "metadata": {},
     "output_type": "execute_result"
    }
   ],
   "source": [
    "most_tobs_station.station"
   ]
  },
  {
   "cell_type": "code",
   "execution_count": 24,
   "metadata": {},
   "outputs": [],
   "source": [
    "station_tobs = session.query(Measurement.tobs).\\\n",
    "    filter(Measurement.station == most_tobs_station.station, Measurement.station == Station.station,\\\n",
    "          Measurement.date > one_year_date).all()\n",
    "temps = list(np.ravel(station_tobs))"
   ]
  },
  {
   "cell_type": "code",
   "execution_count": 25,
   "metadata": {},
   "outputs": [
    {
     "data": {
      "image/png": "[encoded data removed]",
      "text/plain": [
       "<Figure size 432x288 with 1 Axes>"
      ]
     },
     "metadata": {
      "needs_background": "light"
     },
     "output_type": "display_data"
    }
   ],
   "source": [
    "plt.hist(temps, bins=12)\n",
    "plt.ylabel('Frequency')\n",
    "plt.legend(['tobs'])\n",
    "plt.show()"
   ]
  },
  {
   "cell_type": "markdown",
   "metadata": {},
   "source": [
    "## Optional Challenge Assignment"
   ]
  },
  {
   "cell_type": "code",
   "execution_count": 26,
   "metadata": {},
   "outputs": [
    {
     "name": "stdout",
     "output_type": "stream",
     "text": [
      "[(62.0, 69.57142857142857, 74.0)]\n"
     ]
    }
   ],
   "source": [
    "# This function called `calc_temps` will accept start date and end date in the format '%Y-%m-%d' \n",
    "# and return the minimum, average, and maximum temperatures for that range of dates\n",
    "def calc_temps(start_date, end_date):\n",
    "    \"\"\"TMIN, TAVG, and TMAX for a list of dates.\n",
    "    \n",
    "    Args:\n",
    "        start_date (string): A date string in the format %Y-%m-%d\n",
    "        end_date (string): A date string in the format %Y-%m-%d\n",
    "        \n",
    "    Returns:\n",
    "        TMIN, TAVE, and TMAX\n",
    "    \"\"\"\n",
    "    \n",
    "    return session.query(func.min(Measurement.tobs), func.avg(Measurement.tobs), func.max(Measurement.tobs)).\\\n",
    "        filter(Measurement.date >= start_date).filter(Measurement.date <= end_date).all()\n",
    "\n",
    "# function usage example\n",
    "print(calc_temps('2012-02-28', '2012-03-05'))"
   ]
  },
  {
   "cell_type": "code",
   "execution_count": 27,
   "metadata": {},
   "outputs": [],
   "source": [
    "# Use your previous function `calc_temps` to calculate the tmin, tavg, and tmax \n",
    "# for your trip using the previous year's data for those same dates.\n",
    "my_trip_data = (calc_temps('2016-01-20', '2016-01-30'))"
   ]
  },
  {
   "cell_type": "code",
   "execution_count": 28,
   "metadata": {},
   "outputs": [],
   "source": [
    "# Plot the results from your previous query as a bar chart. \n",
    "# Use \"Trip Avg Temp\" as your Title\n",
    "# Use the average temperature for the y value\n",
    "# Use the peak-to-peak (tmax-tmin) value as the y error bar (yerr)\n"
   ]
  },
  {
   "cell_type": "code",
   "execution_count": 29,
   "metadata": {},
   "outputs": [],
   "source": [
    "# Calculate the total amount of rainfall per weather station for your trip dates using the previous year's matching dates.\n",
    "# Sort this in descending order by precipitation amount and list the station, name, latitude, longitude, and elevation\n",
    "\n"
   ]
  },
  {
   "cell_type": "code",
   "execution_count": 30,
   "metadata": {},
   "outputs": [
    {
     "data": {
      "text/plain": [
       "[(62.0, 69.15384615384616, 77.0)]"
      ]
     },
     "execution_count": 30,
     "metadata": {},
     "output_type": "execute_result"
    }
   ],
   "source": [
    "# Create a query that will calculate the daily normals \n",
    "# (i.e. the averages for tmin, tmax, and tavg for all historic data matching a specific month and day)\n",
    "\n",
    "def daily_normals(date):\n",
    "    \"\"\"Daily Normals.\n",
    "    \n",
    "    Args:\n",
    "        date (str): A date string in the format '%m-%d'\n",
    "        \n",
    "    Returns:\n",
    "        A list of tuples containing the daily normals, tmin, tavg, and tmax\n",
    "    \n",
    "    \"\"\"\n",
    "    \n",
    "    sel = [func.min(Measurement.tobs), func.avg(Measurement.tobs), func.max(Measurement.tobs)]\n",
    "    return session.query(*sel).filter(func.strftime(\"%m-%d\", Measurement.date) == date).all()\n",
    "    \n",
    "daily_normals(\"01-01\")"
   ]
  },
  {
   "cell_type": "code",
   "execution_count": 31,
   "metadata": {},
   "outputs": [],
   "source": [
    "# calculate the daily normals for your trip\n",
    "# push each tuple of calculations into a list called `normals`\n",
    "\n",
    "# Set the start and end date of the trip\n",
    "\n",
    "# Use the start and end date to create a range of dates\n",
    "\n",
    "# Stip off the year and save a list of %m-%d strings\n",
    "\n",
    "# Loop through the list of %m-%d strings and calculate the normals for each date\n"
   ]
  },
  {
   "cell_type": "code",
   "execution_count": 32,
   "metadata": {},
   "outputs": [],
   "source": [
    "# Load the previous query results into a Pandas DataFrame and add the `trip_dates` range as the `date` index\n"
   ]
  },
  {
   "cell_type": "code",
   "execution_count": 33,
   "metadata": {},
   "outputs": [],
   "source": [
    "# Plot the daily normals as an area plot with `stacked=False`\n"
   ]
  }
 ],
 "metadata": {
  "kernel_info": {
   "name": "python3"
  },
  "kernelspec": {
   "display_name": "Python 3",
   "language": "python",
   "name": "python3"
  },
  "language_info": {
   "codemirror_mode": {
    "name": "ipython",
    "version": 3
   },
   "file_extension": ".py",
   "mimetype": "text/x-python",
   "name": "python",
   "nbconvert_exporter": "python",
   "pygments_lexer": "ipython3",
   "version": "3.7.3"
  },
  "nteract": {
   "version": "0.12.3"
  },
  "varInspector": {
   "cols": {
    "lenName": 16,
    "lenType": 16,
    "lenVar": 40
   },
   "kernels_config": {
    "python": {
     "delete_cmd_postfix": "",
     "delete_cmd_prefix": "del ",
     "library": "var_list.py",
     "varRefreshCmd": "print(var_dic_list())"
    },
    "r": {
     "delete_cmd_postfix": ") ",
     "delete_cmd_prefix": "rm(",
     "library": "var_list.r",
     "varRefreshCmd": "cat(var_dic_list()) "
    }
   },
   "types_to_exclude": [
    "module",
    "function",
    "builtin_function_or_method",
    "instance",
    "_Feature"
   ],
   "window_display": false
  }
 },
 "nbformat": 4,
 "nbformat_minor": 2
}
